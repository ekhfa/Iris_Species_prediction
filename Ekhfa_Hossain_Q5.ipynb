{
  "nbformat": 4,
  "nbformat_minor": 0,
  "metadata": {
    "colab": {
      "name": "Ekhfa_Hossain_Q5.ipynb",
      "provenance": [],
      "collapsed_sections": []
    },
    "kernelspec": {
      "name": "python3",
      "display_name": "Python 3"
    }
  },
  "cells": [
    {
      "cell_type": "markdown",
      "metadata": {
        "id": "AZqsfWtwtKzs"
      },
      "source": [
        "Answer to the questio no - 05"
      ]
    },
    {
      "cell_type": "markdown",
      "metadata": {
        "id": "RGhuLRbms_ue"
      },
      "source": [
        "Mounting with Google Drive "
      ]
    },
    {
      "cell_type": "code",
      "metadata": {
        "colab": {
          "base_uri": "https://localhost:8080/"
        },
        "id": "yx6AJnEWoqFf",
        "outputId": "4fc12db2-adf4-4d9a-9528-ce89ef010c73"
      },
      "source": [
        "colab = True\r\n",
        "if colab:\r\n",
        "    # Mount drive\r\n",
        "    from google.colab import drive\r\n",
        "    drive.mount('/content/gdrive')"
      ],
      "execution_count": 35,
      "outputs": [
        {
          "output_type": "stream",
          "text": [
            "Drive already mounted at /content/gdrive; to attempt to forcibly remount, call drive.mount(\"/content/gdrive\", force_remount=True).\n"
          ],
          "name": "stdout"
        }
      ]
    },
    {
      "cell_type": "markdown",
      "metadata": {
        "id": "E5V2pHxDvJY0"
      },
      "source": [
        "Importing Necessary Libraries"
      ]
    },
    {
      "cell_type": "code",
      "metadata": {
        "id": "m-bcR3AgqgDt"
      },
      "source": [
        "import numpy as np \r\n",
        "import pandas as pd \r\n",
        "from sklearn.preprocessing import StandardScaler, LabelEncoder\r\n",
        "from sklearn.model_selection import train_test_split, GridSearchCV, cross_val_score, cross_val_predict\r\n"
      ],
      "execution_count": 36,
      "outputs": []
    },
    {
      "cell_type": "markdown",
      "metadata": {
        "id": "3WS4SzTFvWsH"
      },
      "source": [
        "Reading dataset"
      ]
    },
    {
      "cell_type": "code",
      "metadata": {
        "id": "ISQTca2UqgQA"
      },
      "source": [
        "iris = pd.read_csv('/content/gdrive/MyDrive/Cse445/Iris/Iris.csv')\r\n"
      ],
      "execution_count": 37,
      "outputs": []
    },
    {
      "cell_type": "markdown",
      "metadata": {
        "id": "8Po0Sb4eyQze"
      },
      "source": [
        "Importing keras"
      ]
    },
    {
      "cell_type": "code",
      "metadata": {
        "id": "kW0uFshavVUw"
      },
      "source": [
        "!pip install -q keras\r\n",
        "import keras"
      ],
      "execution_count": 38,
      "outputs": []
    },
    {
      "cell_type": "markdown",
      "metadata": {
        "id": "zJ-bwzR4yU-P"
      },
      "source": [
        "Dropping id and column"
      ]
    },
    {
      "cell_type": "code",
      "metadata": {
        "id": "gPDCuDC1rEIP"
      },
      "source": [
        "#Drop id column\r\n",
        "iris = iris.drop('Id',axis=1)\r\n",
        "X = iris.iloc[:, :-1].values\r\n",
        "y = iris.iloc[:, 4].values"
      ],
      "execution_count": 39,
      "outputs": []
    },
    {
      "cell_type": "markdown",
      "metadata": {
        "id": "xkhLSN6RyxXn"
      },
      "source": [
        "split the iris dataset into 80% train data and 20% test data"
      ]
    },
    {
      "cell_type": "code",
      "metadata": {
        "id": "rAZQt_lJrsgt"
      },
      "source": [
        "#Split arrays or matrices into random train and test subsets\r\n",
        "X_train, X_test, y_train, y_test = train_test_split(X, y, test_size=0.20)"
      ],
      "execution_count": 40,
      "outputs": []
    },
    {
      "cell_type": "markdown",
      "metadata": {
        "id": "QzSGZdyry8eL"
      },
      "source": [
        "Training K nearest neighbour algorithm using training dataset"
      ]
    },
    {
      "cell_type": "code",
      "metadata": {
        "colab": {
          "base_uri": "https://localhost:8080/"
        },
        "id": "dXaQKnDPrFKy",
        "outputId": "6b916a4d-240a-460b-8f29-4649b322feab"
      },
      "source": [
        "from sklearn.neighbors import KNeighborsClassifier \r\n",
        "from sklearn.model_selection import train_test_split \r\n",
        "knn = KNeighborsClassifier(n_neighbors=7)  \r\n",
        "knn.fit(X_train, y_train)   "
      ],
      "execution_count": 41,
      "outputs": [
        {
          "output_type": "execute_result",
          "data": {
            "text/plain": [
              "KNeighborsClassifier(algorithm='auto', leaf_size=30, metric='minkowski',\n",
              "                     metric_params=None, n_jobs=None, n_neighbors=7, p=2,\n",
              "                     weights='uniform')"
            ]
          },
          "metadata": {
            "tags": []
          },
          "execution_count": 41
        }
      ]
    },
    {
      "cell_type": "markdown",
      "metadata": {
        "id": "lOQAf0LWzS6N"
      },
      "source": [
        "Calculating the accuracy of the model"
      ]
    },
    {
      "cell_type": "code",
      "metadata": {
        "colab": {
          "base_uri": "https://localhost:8080/"
        },
        "id": "YfNu3A27rwrG",
        "outputId": "3b396199-92d3-4b86-a006-ea0e9451d544"
      },
      "source": [
        "# Calculate the accuracy of the model \r\n",
        "print(\"Accuracy of the model:\")\r\n",
        "print(knn.score(X_test, y_test))"
      ],
      "execution_count": 43,
      "outputs": [
        {
          "output_type": "stream",
          "text": [
            "Accuracy of the model:\n",
            "1.0\n"
          ],
          "name": "stdout"
        }
      ]
    }
  ]
}